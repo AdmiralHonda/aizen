{
 "cells": [
  {
   "cell_type": "code",
   "execution_count": 1,
   "metadata": {},
   "outputs": [],
   "source": [
    "import json\n",
    "\n",
    "file = open(\"./data/clean_adult_video.json\",\"r\")\n",
    "video_data = json.load(file)\n",
    "file.close()\n",
    "\n",
    "with open(\"./data/video_id_list.txt\",\"r\") as f:\n",
    "    video_id_list = f.read().split(',')"
   ]
  },
  {
   "cell_type": "code",
   "execution_count": 5,
   "metadata": {},
   "outputs": [],
   "source": [
    "corpas = []\n",
    "\n",
    "for id,video_data in zip(video_id_list,video_data):\n",
    "    tmp = {\"id\" : \"\",\"content\" : \"\"}\n",
    "    tmp[\"id\"] = id\n",
    "    \n",
    "    tmp[\"content\"] += video_data[\"title\"]\n",
    "    tmp[\"content\"] += video_data[\"describe\"]\n",
    "    tmp[\"content\"] += \"\".join(video_data[\"review\"])\n",
    "\n",
    "    corpas.append(tmp)"
   ]
  },
  {
   "cell_type": "code",
   "execution_count": 7,
   "metadata": {},
   "outputs": [
    {
     "name": "stderr",
     "output_type": "stream",
     "text": [
      "100%|██████████| 179875/179875 [1:43:40<00:00, 28.92it/s]  \n"
     ]
    }
   ],
   "source": [
    "from janome.tokenizer import Tokenizer\n",
    "from gensim.models.doc2vec import TaggedDocument\n",
    "\n",
    "m = Tokenizer(wakati=True)\n",
    "\n",
    "# 分かち書き\n",
    "from tqdm import tqdm as tq\n",
    "\n",
    "training_data = []\n",
    "for document in tq(corpas,total=len(corpas)):\n",
    "    training_data.append(TaggedDocument(words=[word for word in m.tokenize(document[\"content\"])], tags=[document[\"id\"]]))"
   ]
  },
  {
   "cell_type": "code",
   "execution_count": 9,
   "metadata": {},
   "outputs": [],
   "source": [
    "from gensim.models.doc2vec import Doc2Vec\n",
    "# トレーニング\n",
    "trained_data = Doc2Vec(documents= training_data, dm = 1, vector_size=200, window=3, epochs=50,min_count=3, workers=4)\n",
    "trained_data.save(\"./data/doc2vec.model\")"
   ]
  }
 ],
 "metadata": {
  "interpreter": {
   "hash": "d4d1e4263499bec80672ea0156c357c1ee493ec2b1c70f0acce89fc37c4a6abe"
  },
  "kernelspec": {
   "display_name": "Python 3.9.7 64-bit ('base': conda)",
   "language": "python",
   "name": "python3"
  },
  "language_info": {
   "codemirror_mode": {
    "name": "ipython",
    "version": 3
   },
   "file_extension": ".py",
   "mimetype": "text/x-python",
   "name": "python",
   "nbconvert_exporter": "python",
   "pygments_lexer": "ipython3",
   "version": "3.9.7"
  },
  "orig_nbformat": 4
 },
 "nbformat": 4,
 "nbformat_minor": 2
}
