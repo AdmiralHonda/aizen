{
 "cells": [
  {
   "cell_type": "code",
   "execution_count": 24,
   "metadata": {},
   "outputs": [],
   "source": [
    "import json\n",
    "\n",
    "file = open(\"./data/clean_adult_video.json\",\"r\")\n",
    "video_data = json.load(file)\n",
    "file.close()"
   ]
  },
  {
   "cell_type": "code",
   "execution_count": 25,
   "metadata": {},
   "outputs": [],
   "source": [
    "output_data = {}\n",
    "\n",
    "# 各作品ごとに文章として集約\n",
    "for uncleaned_data in video_data:\n",
    "    mono_data = {}\n",
    "\n",
    "    mono_data[\"id\"] = uncleaned_data[\"id\"]\n",
    "    mono_data[\"title\"] = uncleaned_data[\"title\"]\n",
    "    mono_data[\"base_url\"] = uncleaned_data[\"base_url\"]\n",
    "    mono_data[\"image\"] = uncleaned_data[\"image\"]\n",
    "    mono_data[\"tag\"] = uncleaned_data[\"tag\"]\n",
    "    mono_data[\"describe\"] = uncleaned_data[\"describe\"]\n",
    "    mono_data[\"review\"] = uncleaned_data[\"review\"]\n",
    "\n",
    "    output_data[uncleaned_data[\"base_url\"]] = mono_data"
   ]
  },
  {
   "cell_type": "code",
   "execution_count": 26,
   "metadata": {},
   "outputs": [],
   "source": [
    "with open(\"./data/aizen_video-data.json\",\"w\") as f:\n",
    "    f.write(json.dumps(output_data,ensure_ascii=False,indent=2))"
   ]
  },
  {
   "cell_type": "code",
   "execution_count": 2,
   "metadata": {},
   "outputs": [
    {
     "data": {
      "text/plain": [
       "<firebase_admin.App at 0x7f2d84303640>"
      ]
     },
     "execution_count": 2,
     "metadata": {},
     "output_type": "execute_result"
    }
   ],
   "source": [
    "import firebase_admin\n",
    "from firebase_admin import credentials\n",
    "from firebase_admin import db\n",
    "\n",
    "cred = credentials.Certificate('./data/aizen-f96b7-43b1fadd870e.json')\n",
    "\n",
    "firebase_admin.initialize_app(cred, {\n",
    "    'databaseURL': 'https://aizen-f96b7-default-rtdb.asia-southeast1.firebasedatabase.app/',\n",
    "    'databaseAuthVariableOverride': {\n",
    "        'uid': 'my-service-worker'\n",
    "    }\n",
    "})"
   ]
  },
  {
   "cell_type": "code",
   "execution_count": 8,
   "metadata": {},
   "outputs": [],
   "source": [
    "ref = db.reference('/resource')"
   ]
  },
  {
   "cell_type": "code",
   "execution_count": 15,
   "metadata": {},
   "outputs": [],
   "source": [
    "import uuid\n",
    "id_list = []\n",
    "users_ref = ref.child('video')\n",
    "\n",
    "for uncleaned_data in video_data:\n",
    "\n",
    "    tmp_id = str(uuid.uuid3(uuid.uuid1(),uncleaned_data[\"base_url\"]))\n",
    "    id_list.append(tmp_id)\n",
    "    \n",
    "    users_ref.child(tmp_id).set({\n",
    "        \"id\" : uncleaned_data[\"id\"],\n",
    "        \"title\" : uncleaned_data[\"title\"],\n",
    "        \"base_url\" : uncleaned_data[\"base_url\"],\n",
    "        \"image\" : uncleaned_data[\"image\"],\n",
    "        \"tags\" : uncleaned_data[\"tag\"],\n",
    "        \"describe\" : uncleaned_data[\"describe\"],\n",
    "        \"reviews\" : uncleaned_data[\"review\"]\n",
    "    })"
   ]
  },
  {
   "cell_type": "code",
   "execution_count": 23,
   "metadata": {},
   "outputs": [],
   "source": [
    "with open('./data/video_id_list.txt','w') as f:\n",
    "    f.write(','.join(id_list))"
   ]
  },
  {
   "cell_type": "code",
   "execution_count": 27,
   "metadata": {},
   "outputs": [
    {
     "name": "stdout",
     "output_type": "stream",
     "text": [
      "{'base_url': 'https://www.dmm.co.jp/digital/videoa/-/detail/=/cid=h_1275ncac00082/', 'describe': '第一話、夫の急逝で悲しみに暮れ、四十九日までは喪服を脱がない貞淑な妻・友美子は、葬儀のためアメリカから一時帰国した義弟・貢に夫の遺影の前で手篭めにされてしまう…。第二話、未亡人ゆうはセックスレスの夫と協議離婚を考えていたが、その矢先に夫が急死してしまう。 一つ屋根の下、若い嫁の欲求に気づいていた義父・達郎は未亡人となった嫁を自分の縄奴隷として調教したい欲望を抑えられなくなる。         ', 'id': 'h_1275ncac00082', 'image': 'https://pics.dmm.co.jp/digital/video/h_1275ncac00082/h_1275ncac00082pl.jpg', 'tags': ['風間ゆみ', '川上ゆう（森野雫）', '新世紀文藝社', '新世紀文藝社', '巨乳', '人妻・主婦', '近親相姦', '縛り・緊縛', '未亡人', '熟女', 'ハイビジョン'], 'title': '縛られた未亡人'}\n"
     ]
    }
   ],
   "source": [
    "print(db.reference(\"/resource/video/77158463-d33f-3c7f-b020-1de1df48fc31\").get())"
   ]
  }
 ],
 "metadata": {
  "interpreter": {
   "hash": "b3ba2566441a7c06988d0923437866b63cedc61552a5af99d1f4fb67d367b25f"
  },
  "kernelspec": {
   "display_name": "Python 3.8.5 ('base')",
   "language": "python",
   "name": "python3"
  },
  "language_info": {
   "codemirror_mode": {
    "name": "ipython",
    "version": 3
   },
   "file_extension": ".py",
   "mimetype": "text/x-python",
   "name": "python",
   "nbconvert_exporter": "python",
   "pygments_lexer": "ipython3",
   "version": "3.9.7"
  },
  "orig_nbformat": 4
 },
 "nbformat": 4,
 "nbformat_minor": 2
}
